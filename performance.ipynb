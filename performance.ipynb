{
  "nbformat": 4,
  "nbformat_minor": 0,
  "metadata": {
    "colab": {
      "name": "RobotExploration.ipynb",
      "provenance": [],
      "collapsed_sections": [
        "myE8mvzZvjql"
      ]
    },
    "kernelspec": {
      "name": "python3",
      "display_name": "Python 3"
    }
  },
  "cells": [
    {
      "cell_type": "code",
      "metadata": {
        "id": "jVYd59vjojbq"
      },
      "source": [
        "import numpy as np\r\n",
        "import math\r\n",
        "import matplotlib.pyplot as plt\r\n",
        "import scipy as sp\r\n",
        "import scipy.stats as stats\r\n",
        "import statistics as stat"
      ],
      "execution_count": null,
      "outputs": []
    },
    {
      "cell_type": "code",
      "metadata": {
        "id": "Wvj1hOrEop3z"
      },
      "source": [
        "experiment_length = 3000\r\n",
        "n_landmark = 4"
      ],
      "execution_count": null,
      "outputs": []
    },
    {
      "cell_type": "code",
      "metadata": {
        "id": "Zo11GN0PqFsL"
      },
      "source": [
        "def truncate(input: float, decimals: int = 2) -> float: \r\n",
        "  \"\"\"\r\n",
        "  Truncate float value from n-th decimal digit on.\r\n",
        "  \r\n",
        "  Args:\r\n",
        "    input: float value\r\n",
        "    decimals: number of decimal digits to be kept; 2 by default \r\n",
        "  \r\n",
        "  Returns:\r\n",
        "    THe truncated float value\r\n",
        "\r\n",
        "  \"\"\"\r\n",
        "  return math.trunc(input * 10**decimals) / 10**decimals\r\n",
        "\r\n",
        "def create_ts(checkpoints: list, total_length: int = experiment_length) -> list:\r\n",
        "  '''Create the TS values from the given checkpoints.\r\n",
        "\r\n",
        "  Args:\r\n",
        "    checkpoints: int values representing the time a new landmark has been explored\r\n",
        "    experiment_length: length of the expriment; not epxlored landmark at this that time \r\n",
        "\r\n",
        "  Returns:\r\n",
        "    a list of length total_length where each element represent represent the numbe rof explored landmarks at a that time \r\n",
        "    (e.g., res[10] = 2 -> 2 explored landmarks at time 11)  \r\n",
        "\r\n",
        "  '''\r\n",
        "  l_0 = [0  for _ in range(checkpoints[0])]\r\n",
        "  l_1 = [1  for _ in range(checkpoints[0], checkpoints[1])] \r\n",
        "  l_2 = [2  for _ in range(checkpoints[1], checkpoints[2])] \r\n",
        "  l_3 = [3  for _ in range(checkpoints[2], checkpoints[3])]\r\n",
        "  l_4 = [4  for _ in range(checkpoints[3], total_length)]\r\n",
        "  l_0.extend(l_1)\r\n",
        "  l_0.extend(l_2)\r\n",
        "  l_0.extend(l_3)\r\n",
        "  l_0.extend(l_4)\r\n",
        "  return l_0\r\n",
        "\r\n",
        "def goodness(t_checkpoints: list, total_length: int = experiment_length, n_landmarks = n_landmark):\r\n",
        "  '''Calcualte the goodness of a given ts\r\n",
        "   \r\n",
        "  Args:\r\n",
        "    t_checkpoints: times of exploration for each landmark\r\n",
        "    \r\n",
        "  Return:\r\n",
        "    A goodness value normalized in [0;1]\r\n",
        "  '''\r\n",
        "  return truncate(sum(create_ts(t_checkpoints)) / (total_length * n_landmark), 2)\r\n"
      ],
      "execution_count": null,
      "outputs": []
    },
    {
      "cell_type": "markdown",
      "metadata": {
        "id": "5QTEY1mylTDC"
      },
      "source": [
        "# Side"
      ]
    },
    {
      "cell_type": "markdown",
      "metadata": {
        "id": "a4Y93HjvqPFP"
      },
      "source": [
        "cluster = 1  \r\n",
        "obstacle = 0"
      ]
    },
    {
      "cell_type": "code",
      "metadata": {
        "id": "QVrlGA8Yvcn7",
        "colab": {
          "base_uri": "https://localhost:8080/",
          "height": 316
        },
        "outputId": "9907fcca-6abb-41fb-d4fa-0e77b5290650"
      },
      "source": [
        "t_1_20 = [161, 258, 343, 1081]\r\n",
        "t_1_30 = [115, 372, 414, 1032]\r\n",
        "t_1_40 = [175, 236, 367, 862]\r\n",
        "plt.plot([_ for _ in range(experiment_length)], create_ts(t_1_20))\r\n",
        "plt.plot([_ for _ in range(experiment_length)], create_ts(t_1_30))\r\n",
        "plt.plot([_ for _ in range(experiment_length)], create_ts(t_1_40))\r\n",
        "plt.legend(['20', '30', '40'])\r\n",
        "plt.show()\r\n",
        "\r\n",
        "print(goodness(t_1_20))\r\n",
        "print(goodness(t_1_30))\r\n",
        "print(goodness(t_1_40))"
      ],
      "execution_count": null,
      "outputs": [
        {
          "output_type": "display_data",
          "data": {
            "image/png": "[encoded data removed]",
            "text/plain": [
              "<Figure size 432x288 with 1 Axes>"
            ]
          },
          "metadata": {
            "tags": [],
            "needs_background": "light"
          }
        },
        {
          "output_type": "stream",
          "text": [
            "0.84\n",
            "0.83\n",
            "0.86\n"
          ],
          "name": "stdout"
        }
      ]
    },
    {
      "cell_type": "markdown",
      "metadata": {
        "id": "Ek3BkKUTwmCX"
      },
      "source": [
        "cluster = 1  \r\n",
        "obstacles = 10"
      ]
    },
    {
      "cell_type": "code",
      "metadata": {
        "colab": {
          "base_uri": "https://localhost:8080/",
          "height": 316
        },
        "id": "uXoem7NzwlgR",
        "outputId": "317a2cff-78fe-4d44-c192-bf1ae4a78402"
      },
      "source": [
        "t_1_20 = [300, 329, 1705, 1931]\r\n",
        "t_1_30 = [234, 418, 548, 2112]\r\n",
        "t_1_40 = [268, 410, 420, 1022]\r\n",
        "plt.plot([_ for _ in range(experiment_length)], create_ts(t_1_20))\r\n",
        "plt.plot([_ for _ in range(experiment_length)], create_ts(t_1_30))\r\n",
        "plt.plot([_ for _ in range(experiment_length)], create_ts(t_1_40))\r\n",
        "plt.legend(['20', '30', '40'])\r\n",
        "plt.show()\r\n",
        "\r\n",
        "print(goodness(t_1_20))\r\n",
        "print(goodness(t_1_30))\r\n",
        "print(goodness(t_1_40))"
      ],
      "execution_count": null,
      "outputs": [
        {
          "output_type": "display_data",
          "data": {
            "image/png": "[encoded data removed]",
            "text/plain": [
              "<Figure size 432x288 with 1 Axes>"
            ]
          },
          "metadata": {
            "tags": [],
            "needs_background": "light"
          }
        },
        {
          "output_type": "stream",
          "text": [
            "0.64\n",
            "0.72\n",
            "0.82\n"
          ],
          "name": "stdout"
        }
      ]
    },
    {
      "cell_type": "markdown",
      "metadata": {
        "id": "xJxFvlOtwrH1"
      },
      "source": [
        "cluster = 1  \r\n",
        "obstacles = 20"
      ]
    },
    {
      "cell_type": "code",
      "metadata": {
        "colab": {
          "base_uri": "https://localhost:8080/",
          "height": 316
        },
        "id": "vg0lqz5hwq8N",
        "outputId": "9db846f4-c7a7-437f-8d34-a4d6b1c0cfcd"
      },
      "source": [
        "t_1_20 = [266, 370, 863, 2771]\r\n",
        "t_1_30 = [317, 623, 994, 3000]\r\n",
        "t_1_40 = [307, 580, 1018, 2069]\r\n",
        "plt.plot([_ for _ in range(experiment_length)], create_ts(t_1_20))\r\n",
        "plt.plot([_ for _ in range(experiment_length)], create_ts(t_1_30))\r\n",
        "plt.plot([_ for _ in range(experiment_length)], create_ts(t_1_40))\r\n",
        "plt.legend(['20', '30', '40'])\r\n",
        "plt.show()\r\n",
        "\r\n",
        "print(goodness(t_1_20))\r\n",
        "print(goodness(t_1_30))\r\n",
        "print(goodness(t_1_40))"
      ],
      "execution_count": null,
      "outputs": [
        {
          "output_type": "display_data",
          "data": {
            "image/png": "[encoded data removed]",
            "text/plain": [
              "<Figure size 432x288 with 1 Axes>"
            ]
          },
          "metadata": {
            "tags": [],
            "needs_background": "light"
          }
        },
        {
          "output_type": "stream",
          "text": [
            "0.64\n",
            "0.58\n",
            "0.66\n"
          ],
          "name": "stdout"
        }
      ]
    },
    {
      "cell_type": "markdown",
      "metadata": {
        "id": "Hlcsd1rSqVfr"
      },
      "source": [
        "cluster = 3  \r\n",
        "obstacles = 0"
      ]
    },
    {
      "cell_type": "code",
      "metadata": {
        "colab": {
          "base_uri": "https://localhost:8080/",
          "height": 316
        },
        "id": "zo1XCiTbqXdF",
        "outputId": "a586e45e-fdef-4fd7-f0fd-6a03bab51587"
      },
      "source": [
        "t_3_20 = [559, 1231, 2730, 3000]\r\n",
        "t_3_30 = [869, 1165, 3000, 3000]\r\n",
        "t_3_40 = [833, 834, 970, 3000]\r\n",
        "plt.plot([_ for _ in range(experiment_length)], create_ts(t_3_20))\r\n",
        "plt.plot([_ for _ in range(experiment_length)], create_ts(t_3_30))\r\n",
        "plt.plot([_ for _ in range(experiment_length)], create_ts(t_3_40))\r\n",
        "plt.legend(['20', '30', '40'])\r\n",
        "plt.show()\r\n",
        "\r\n",
        "print(goodness(t_3_20))\r\n",
        "print(goodness(t_3_30))\r\n",
        "print(goodness(t_3_40))"
      ],
      "execution_count": null,
      "outputs": [
        {
          "output_type": "display_data",
          "data": {
            "image/png": "[encoded data removed]",
            "text/plain": [
              "<Figure size 432x288 with 1 Axes>"
            ]
          },
          "metadata": {
            "tags": [],
            "needs_background": "light"
          }
        },
        {
          "output_type": "stream",
          "text": [
            "0.37\n",
            "0.33\n",
            "0.53\n"
          ],
          "name": "stdout"
        }
      ]
    },
    {
      "cell_type": "markdown",
      "metadata": {
        "id": "QxmFSBrowoX3"
      },
      "source": [
        "cluster = 3  \r\n",
        "obstacles = 10"
      ]
    },
    {
      "cell_type": "code",
      "metadata": {
        "colab": {
          "base_uri": "https://localhost:8080/",
          "height": 316
        },
        "id": "QSk4qSRCwqtw",
        "outputId": "60e167a0-0248-4801-a42a-772d1ac5437c"
      },
      "source": [
        "t_3_20 = [3000, 3000, 3000, 3000]\r\n",
        "t_3_30 = [1449, 1962, 2981, 3000]\r\n",
        "t_3_40 = [1542, 1633, 2394, 2453]\r\n",
        "plt.plot([_ for _ in range(experiment_length)], create_ts(t_3_20))\r\n",
        "plt.plot([_ for _ in range(experiment_length)], create_ts(t_3_30))\r\n",
        "plt.plot([_ for _ in range(experiment_length)], create_ts(t_3_40))\r\n",
        "plt.legend(['20', '30', '40'])\r\n",
        "plt.show()\r\n",
        "\r\n",
        "print(goodness(t_3_20))\r\n",
        "print(goodness(t_3_30))\r\n",
        "print(goodness(t_3_40))"
      ],
      "execution_count": null,
      "outputs": [
        {
          "output_type": "display_data",
          "data": {
            "image/png": "[encoded data removed]",
            "text/plain": [
              "<Figure size 432x288 with 1 Axes>"
            ]
          },
          "metadata": {
            "tags": [],
            "needs_background": "light"
          }
        },
        {
          "output_type": "stream",
          "text": [
            "0.0\n",
            "0.21\n",
            "0.33\n"
          ],
          "name": "stdout"
        }
      ]
    },
    {
      "cell_type": "markdown",
      "metadata": {
        "id": "_B8o7X60wtIx"
      },
      "source": [
        "cluster = 3  \r\n",
        "obstacles = 20"
      ]
    },
    {
      "cell_type": "code",
      "metadata": {
        "colab": {
          "base_uri": "https://localhost:8080/",
          "height": 316
        },
        "id": "0zqX9KEKwuqM",
        "outputId": "ab6993f1-4687-4dbe-b9d0-4deb25052c7c"
      },
      "source": [
        "t_3_20 = [3000, 3000, 3000, 3000]\r\n",
        "t_3_30 = [1461, 2667, 2990, 3000]\r\n",
        "t_3_40 = [1534, 2815, 3000, 3000]\r\n",
        "plt.plot([_ for _ in range(experiment_length)], create_ts(t_3_20))\r\n",
        "plt.plot([_ for _ in range(experiment_length)], create_ts(t_3_30))\r\n",
        "plt.plot([_ for _ in range(experiment_length)], create_ts(t_3_40))\r\n",
        "plt.legend(['20', '30', '40'])\r\n",
        "plt.show()\r\n",
        "\r\n",
        "print(goodness(t_3_20))\r\n",
        "print(goodness(t_3_30))\r\n",
        "print(goodness(t_3_40))"
      ],
      "execution_count": null,
      "outputs": [
        {
          "output_type": "display_data",
          "data": {
            "image/png": "[encoded data removed]",
            "text/plain": [
              "<Figure size 432x288 with 1 Axes>"
            ]
          },
          "metadata": {
            "tags": [],
            "needs_background": "light"
          }
        },
        {
          "output_type": "stream",
          "text": [
            "0.0\n",
            "0.15\n",
            "0.13\n"
          ],
          "name": "stdout"
        }
      ]
    }
  ]
}